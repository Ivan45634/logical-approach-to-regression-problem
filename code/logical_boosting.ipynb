{
 "cells": [
  {
   "cell_type": "code",
   "execution_count": 17,
   "id": "e69e2ca3",
   "metadata": {},
   "outputs": [],
   "source": [
    "import os\n",
    "import pandas as pd\n",
    "import numpy as np\n",
    "from copy import copy\n",
    "from tqdm import tqdm\n",
    "from sklearn.base import BaseEstimator\n",
    "from sklearn.datasets import make_regression\n",
    "from sklearn.model_selection import train_test_split\n",
    "from sklearn.metrics import mean_squared_error\n",
    "from sklearn.linear_model import LinearRegression\n",
    "#import cover.cpp ToDo"
   ]
  },
  {
   "cell_type": "code",
   "execution_count": 1,
   "id": "119145f4",
   "metadata": {},
   "outputs": [],
   "source": [
    "def write(name_dataset, X, y):\n",
    "    \"\"\"\n",
    "    Запись обучающей выборки в отдельный файл\n",
    "    \"\"\"\n",
    "    with open(name_dataset, 'w') as f:\n",
    "        for i in range(X.shape[0]):\n",
    "            for j in range(X.shape[1]):\n",
    "                f.write(str(int(X[i][j])))\n",
    "                f.write(' ')\n",
    "            f.write(str(y[i]) + ' ')\n",
    "            f.write('\\n')"
   ]
  },
  {
   "cell_type": "markdown",
   "id": "7be6e067",
   "metadata": {},
   "source": [
    "## Boosting  с минимизацией перебором по покрытиям (ToDo: Python оболочка для вызова C++ методов)"
   ]
  },
  {
   "cell_type": "code",
   "execution_count": 4,
   "id": "e47bcb77",
   "metadata": {},
   "outputs": [],
   "source": [
    "class BoostingRegressor(BaseEstimator, RegressorMixin):\n",
    "    def __init__(self, n_estimators=100):\n",
    "        self.n_estimators = n_estimators\n",
    "\n",
    "    def fit(self, X, y):\n",
    "        X, y = check_X_y(X, y)\n",
    "        \n",
    "        self.classes_ = unique_labels(y)\n",
    "        self.X_ = X\n",
    "        self.y_ = y\n",
    "\n",
    "        self.estimators_ = []\n",
    "        current_estimate = np.zeros_like(y)\n",
    "        for _ in range(self.n_estimators):\n",
    "            residuals = y - current_estimate\n",
    "            estimator = self._train_estimator(X, residuals)\n",
    "            self.estimators_.append(estimator)\n",
    "            current_estimate += estimator.predict(X)\n",
    "        return self\n",
    "\n",
    "    def _train_estimator(self, X, residuals):\n",
    "        max_residual_idx = np.argmax(residuals)\n",
    "        max_residual_object = X[max_residual_idx]\n",
    "        \n",
    "#         H = cpp_algorithm.find_irreducible_cover(max_residual_object) ToDo\n",
    "\n",
    "        X_train = np.array([max_residual_object])\n",
    "        y_train = np.array([residuals[max_residual_idx]])\n",
    "        \n",
    "        return SomeRegressor().fit(X_train, y_train)\n",
    "\n",
    "    def predict(self, X):\n",
    "        check_is_fitted(self)\n",
    "        X = check_array(X)\n",
    "        return sum(\n",
    "            estimator.predict(X) for estimator in self.estimators_\n",
    "        )"
   ]
  },
  {
   "cell_type": "markdown",
   "id": "717fe54f",
   "metadata": {},
   "source": [
    "## Baseline"
   ]
  },
  {
   "cell_type": "code",
   "execution_count": null,
   "id": "7f23ec63",
   "metadata": {},
   "outputs": [],
   "source": [
    "# Генерация случайных данных для регрессии\n",
    "X, y = make_regression(n_samples=100, n_features=10, noise=0.5, random_state=42)\n",
    "\n",
    "# Разделение данных на обучающий и тестовый наборы\n",
    "X_train, X_test, y_train, y_test = train_test_split(X, y, test_size=0.2, random_state=42)\n",
    "\n",
    "# Создание и обучение модели BoostingRegressor\n",
    "model = BoostingRegressor(n_estimators=100)\n",
    "model.fit(X_train, y_train)\n",
    "\n",
    "# Предсказание значений\n",
    "y_pred = model.predict(X_test)\n",
    "\n",
    "# Вычисление среднеквадратичной ошибки\n",
    "mse = mean_squared_error(y_test, y_pred)\n",
    "print(\"Mean Squared Error:\", mse)\n",
    "\n",
    "# Сравнение с простой моделью Linear Regression\n",
    "linear_model = LinearRegression()\n",
    "linear_model.fit(X_train, y_train)\n",
    "y_pred_linear = linear_model.predict(X_test)\n",
    "mse_linear = mean_squared_error(y_test, y_pred_linear)\n",
    "print(\"Mean Squared Error (Linear Regression):\", mse_linear)"
   ]
  }
 ],
 "metadata": {
  "kernelspec": {
   "display_name": "Python 3 (ipykernel)",
   "language": "python",
   "name": "python3"
  },
  "language_info": {
   "codemirror_mode": {
    "name": "ipython",
    "version": 3
   },
   "file_extension": ".py",
   "mimetype": "text/x-python",
   "name": "python",
   "nbconvert_exporter": "python",
   "pygments_lexer": "ipython3",
   "version": "3.10.9"
  }
 },
 "nbformat": 4,
 "nbformat_minor": 5
}
