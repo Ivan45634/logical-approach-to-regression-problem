{
 "cells": [
  {
   "cell_type": "code",
   "execution_count": 1,
   "metadata": {},
   "outputs": [],
   "source": [
    "import numpy as np\n",
    "import pandas as pd\n",
    "from sklearn.base import BaseEstimator, RegressorMixin\n",
    "from sklearn.model_selection import train_test_split, GridSearchCV\n",
    "from scipy.optimize import minimize\n",
    "from models import BoostingElementaryPredicates, BoostingElementaryPredicates1\n",
    "from utilites import preprocess\n",
    "from sklearn.model_selection import cross_val_score\n",
    "from sklearn.metrics import mean_squared_error, r2_score\n",
    "# from sklearn.datasets import load_boston\n",
    "from sklearn.datasets import fetch_california_housing\n",
    "from sklearn.model_selection import RepeatedKFold\n",
    "from scipy.optimize import minimize\n",
    "import numpy.ma as mask\n",
    "from sklearn.dummy import DummyRegressor\n",
    "from sklearn.preprocessing import LabelEncoder\n",
    "from models import BoostingElementaryPredicates, BoostingElementaryPredicates1\n",
    "import time\n",
    "from tqdm import tqdm\n",
    "import math\n",
    "import itertools\n",
    "from sklearn.datasets import load_diabetes\n",
    "from sklearn.datasets import make_regression\n",
    "import numpy as np\n",
    "from sklearn.metrics import mean_squared_error\n",
    "from joblib import Parallel, delayed\n",
    "from own_forest import *\n",
    "from utilites import *\n",
    "from own_forest import *"
   ]
  },
  {
   "cell_type": "markdown",
   "metadata": {},
   "source": [
    "## Алгоритм бэггинга над бустингом эл.кл."
   ]
  },
  {
   "cell_type": "code",
   "execution_count": 6,
   "metadata": {},
   "outputs": [],
   "source": [
    "def _generate_bagging_indices(rng, n_samples, sample_fraction, bootstrap):\n",
    "    \"\"\"Generates bootstrap indices for bagging.\"\"\"\n",
    "    if bootstrap:\n",
    "        indices = rng.choice(n_samples, size=int(n_samples*sample_fraction), replace=True)\n",
    "    else:\n",
    "        indices = rng.choice(n_samples, size=int(n_samples*sample_fraction), replace=False)\n",
    "    return indices"
   ]
  },
  {
   "cell_type": "code",
   "execution_count": 8,
   "metadata": {},
   "outputs": [],
   "source": [
    "class BaggingElementaryTrees:\n",
    "    def __init__(self, base_estimator=None, n_estimators=10, sub_sample_size=1.0, sub_feature_size=1.0, bootstrap=True, bootstrap_features=True, n_jobs=None, random_state=None):\n",
    "        self.base_estimator = base_estimator if base_estimator is not None else BoostingElementaryPredicates()\n",
    "        self.n_estimators = n_estimators\n",
    "        self.sub_sample_size = sub_sample_size\n",
    "        self.sub_feature_size = sub_feature_size\n",
    "        self.bootstrap = bootstrap\n",
    "        self.bootstrap_features = bootstrap_features\n",
    "        self.n_jobs = n_jobs\n",
    "        self.random_state = random_state\n",
    "\n",
    "    def fit(self, X, y):\n",
    "        self.random_state_ = np.random.RandomState(self.random_state)\n",
    "        seeds = self.random_state_.randint(np.iinfo(np.int32).max, size=self.n_estimators)\n",
    "\n",
    "        self.estimators_ = []\n",
    "        self.estimators_features_ = []\n",
    "\n",
    "        if self.n_jobs is None:\n",
    "            for seed in seeds:\n",
    "                estimator, features = self._fit_estimator(X, y, seed)\n",
    "                self.estimators_.append(estimator)\n",
    "                self.estimators_features_.append(features)\n",
    "        else:\n",
    "            results = Parallel(n_jobs=self.n_jobs)(delayed(self._fit_estimator)(X, y, seed) for seed in seeds)\n",
    "            self.estimators_, self.estimators_features_ = zip(*results)\n",
    "\n",
    "        return self\n",
    "\n",
    "    def _fit_estimator(self, X, y, seed):\n",
    "        rng = np.random.default_rng(seed)\n",
    "        samples = _generate_bagging_indices(rng, X.shape[0], self.sub_sample_size, self.bootstrap)\n",
    "        if self.bootstrap_features:\n",
    "            features = _generate_bagging_indices(rng, X.shape[1], self.sub_feature_size, self.bootstrap)\n",
    "        else:\n",
    "            features = np.arange(X.shape[1])\n",
    "\n",
    "        estimator = self.base_estimator.__class__() \n",
    "        estimator.fit(X[samples][:, features], y[samples])\n",
    "        \n",
    "        return estimator, features\n",
    "\n",
    "    def predict(self, X):\n",
    "        # Соберите предсказания от всех деревьев\n",
    "        predictions = np.mean([est.predict(X[:, features]) for est, features in zip(self.estimators_, self.estimators_features_)], axis=0)\n",
    "        return predictions"
   ]
  },
  {
   "cell_type": "markdown",
   "metadata": {},
   "source": [
    "## Подготовка данных"
   ]
  },
  {
   "cell_type": "code",
   "execution_count": 6,
   "metadata": {},
   "outputs": [],
   "source": [
    "url = 'http://archive.ics.uci.edu/ml/machine-learning-databases/auto-mpg/auto-mpg.data'\n",
    "column_names = ['MPG', 'Cylinders', 'Displacement', 'Horsepower', 'Weight',\n",
    "                'Acceleration', 'Model Year', 'Origin']\n",
    "\n",
    "dataset = pd.read_csv(url, names=column_names,\n",
    "                          na_values='?', comment='\\t',\n",
    "                          sep=' ', skipinitialspace=True)"
   ]
  },
  {
   "cell_type": "code",
   "execution_count": 35,
   "metadata": {},
   "outputs": [],
   "source": [
    "# y = dataset['MPG'].to_numpy()\n",
    "# X = dataset.drop(columns='MPG')"
   ]
  },
  {
   "cell_type": "code",
   "execution_count": 36,
   "metadata": {},
   "outputs": [],
   "source": [
    "# X_train, X_test, y_train, y_test = train_test_split(X, y, test_size=0.2, random_state=42)"
   ]
  },
  {
   "cell_type": "code",
   "execution_count": 7,
   "metadata": {},
   "outputs": [],
   "source": [
    "X_train, X_test, y_train, y_test = preprocess(dataset, 'MPG')"
   ]
  },
  {
   "cell_type": "code",
   "execution_count": 2,
   "metadata": {},
   "outputs": [],
   "source": [
    "# diabetes = load_diabetes()\n",
    "# X, y = diabetes.data, diabetes.target\n",
    "# df = pd.DataFrame(diabetes.data, columns=diabetes.feature_names)\n",
    "# df['TARGET'] = diabetes.target\n",
    "\n",
    "# X_train, X_test, y_train, y_test = preprocess(df)"
   ]
  },
  {
   "cell_type": "markdown",
   "metadata": {},
   "source": [
    "## Обучение и подбор параметров бустинга"
   ]
  },
  {
   "cell_type": "code",
   "execution_count": 7,
   "metadata": {},
   "outputs": [],
   "source": [
    "lb_params =  {\n",
    "    \"m\" : np.linspace(5, 50, 10).astype(int),\n",
    "    \"num_iter\" : np.linspace(10, 50, 20).astype(int),\n",
    "    \"max_cov\": [500]\n",
    "}\n",
    "\n",
    "models = [BoostingElementaryPredicates()]\n",
    "\n",
    "params = [lb_params]"
   ]
  },
  {
   "cell_type": "code",
   "execution_count": 8,
   "metadata": {},
   "outputs": [],
   "source": [
    "results = []\n",
    "time_results = []"
   ]
  },
  {
   "cell_type": "code",
   "execution_count": 9,
   "metadata": {},
   "outputs": [
    {
     "name": "stderr",
     "output_type": "stream",
     "text": [
      "1it [03:53, 233.45s/it]"
     ]
    },
    {
     "name": "stdout",
     "output_type": "stream",
     "text": [
      "Results:\n",
      "BoostingElementaryPredicates:\n",
      "Best params:{'m': 30, 'max_cov': 500, 'num_iter': 18}\n",
      "MSE: 23.93\n",
      "R2: 0.54\n",
      "\n",
      "\n",
      "Time results:\n",
      "{'model': 'BoostingElementaryPredicates', 'time': 233.45087599754333}\n"
     ]
    },
    {
     "name": "stderr",
     "output_type": "stream",
     "text": [
      "\n"
     ]
    }
   ],
   "source": [
    "for model, param in tqdm(zip(models, params)):\n",
    "    start_time = time.time()\n",
    "    grid = GridSearchCV(model, param, cv=5, scoring='neg_mean_squared_error')\n",
    "    grid.fit(X_train, y_train)\n",
    "    \n",
    "    scores = cross_val_score(grid.best_estimator_, X_train, y_train, cv=5, scoring='neg_mean_squared_error')\n",
    "    mse = np.abs(np.mean(scores))\n",
    "    r2 = r2_score(y_test, grid.predict(X_test))\n",
    "   \n",
    "    results.append(f\"{model.__class__.__name__}:\\nBest params:{grid.best_params_}\\nMSE: {mse:.2f}\\nR2: {r2:.2f}\\n\")\n",
    "    end_time = time.time()\n",
    "    time_results.append({'model': model.__class__.__name__, 'time': end_time - start_time})\n",
    "\n",
    "print('Results:')\n",
    "for res in results:\n",
    "    print(res)\n",
    "\n",
    "print('\\nTime results:')\n",
    "for tres in time_results:\n",
    "    print(tres)"
   ]
  },
  {
   "cell_type": "markdown",
   "metadata": {},
   "source": [
    "В предыдущей ячейке есть недочеты с подбором параметров (см. ниже графики)"
   ]
  },
  {
   "cell_type": "code",
   "execution_count": 8,
   "metadata": {},
   "outputs": [
    {
     "name": "stdout",
     "output_type": "stream",
     "text": [
      "11\n"
     ]
    },
    {
     "data": {
      "image/png": "[encoded data removed]",
      "text/plain": [
       "<Figure size 640x480 with 1 Axes>"
      ]
     },
     "metadata": {},
     "output_type": "display_data"
    },
    {
     "name": "stdout",
     "output_type": "stream",
     "text": [
      "BoostingElementaryPredicates:\n",
      "Mean Squared Error: 4.3362940399670515\n",
      "R2 Score: 0.6502754378086654\n"
     ]
    }
   ],
   "source": [
    "model = BoostingElementaryPredicates1(num_iter=11, m=59) # критическое значение\n",
    "model.fit_predict(X_train, y_train, X_test, y_test)\n",
    "y_pred = model.predict(X_test)\n",
    "print(\"BoostingElementaryPredicates:\")\n",
    "print(\"Mean Squared Error:\", mean_squared_error(y_test, y_pred, squared=False))\n",
    "print(\"R2 Score:\", r2_score(y_test, y_pred))"
   ]
  },
  {
   "cell_type": "code",
   "execution_count": 9,
   "metadata": {},
   "outputs": [
    {
     "data": {
      "image/png": "[encoded data removed]",
      "text/plain": [
       "<Figure size 1000x600 with 1 Axes>"
      ]
     },
     "metadata": {},
     "output_type": "display_data"
    }
   ],
   "source": [
    "m_values = list(range(5, 60, 1)) # Равномерная сетка от 5 до 59\n",
    "r2_scores = []\n",
    "\n",
    "for m in m_values:\n",
    "    model = BoostingElementaryPredicates(num_iter=11, m=m)\n",
    "    model.fit(X_train, y_train)\n",
    "    y_pred = model.predict(X_test)\n",
    "    r2 = r2_score(y_test, y_pred)\n",
    "    r2_scores.append(r2)\n",
    "\n",
    "# Визуализация\n",
    "plt.figure(figsize=(10, 6))\n",
    "plt.plot(m_values, r2_scores, marker='o', linestyle='-', color='b')\n",
    "plt.title('Зависимость r2_score от значения параметра m')\n",
    "plt.xlabel('Значение параметра m')\n",
    "plt.ylabel('r2_score')\n",
    "plt.grid(True)\n",
    "plt.show()"
   ]
  },
  {
   "cell_type": "markdown",
   "metadata": {},
   "source": [
    "Увеличение размерности матрицы сравнения позволяет достичь лучшего качества.\n",
    "\n",
    "TODO: пофиксить краш ядра JupyterNotebook при матрицах размера >= 60 и посмотреть на распределение весов estimators."
   ]
  },
  {
   "cell_type": "markdown",
   "metadata": {},
   "source": [
    "## Обучение и подбор параметров бэггинга"
   ]
  },
  {
   "cell_type": "code",
   "execution_count": 11,
   "metadata": {},
   "outputs": [
    {
     "ename": "TypeError",
     "evalue": "'NoneType' object cannot be interpreted as an integer",
     "output_type": "error",
     "traceback": [
      "\u001b[0;31m---------------------------------------------------------------------------\u001b[0m",
      "\u001b[0;31m_RemoteTraceback\u001b[0m                          Traceback (most recent call last)",
      "\u001b[0;31m_RemoteTraceback\u001b[0m: \n\"\"\"\nTraceback (most recent call last):\n  File \"/Users/admin/anaconda3/lib/python3.11/site-packages/joblib/externals/loky/process_executor.py\", line 428, in _process_worker\n    r = call_item()\n        ^^^^^^^^^^^\n  File \"/Users/admin/anaconda3/lib/python3.11/site-packages/joblib/externals/loky/process_executor.py\", line 275, in __call__\n    return self.fn(*self.args, **self.kwargs)\n           ^^^^^^^^^^^^^^^^^^^^^^^^^^^^^^^^^^\n  File \"/Users/admin/anaconda3/lib/python3.11/site-packages/joblib/_parallel_backends.py\", line 620, in __call__\n    return self.func(*args, **kwargs)\n           ^^^^^^^^^^^^^^^^^^^^^^^^^^\n  File \"/Users/admin/anaconda3/lib/python3.11/site-packages/joblib/parallel.py\", line 288, in __call__\n    return [func(*args, **kwargs)\n           ^^^^^^^^^^^^^^^^^^^^^^\n  File \"/Users/admin/anaconda3/lib/python3.11/site-packages/joblib/parallel.py\", line 288, in <listcomp>\n    return [func(*args, **kwargs)\n            ^^^^^^^^^^^^^^^^^^^^^\n  File \"/var/folders/6n/8jjs7_ks1vvgsv0l2n5mxvdw0000gn/T/ipykernel_11556/3900168303.py\", line 39, in _fit_estimator\n  File \"/Users/admin/Desktop/diploma/models.py\", line 27, in fit\n    for _ in range(self.num_iter):\n             ^^^^^^^^^^^^^^^^^^^^\nTypeError: 'NoneType' object cannot be interpreted as an integer\n\"\"\"",
      "\nThe above exception was the direct cause of the following exception:\n",
      "\u001b[0;31mTypeError\u001b[0m                                 Traceback (most recent call last)",
      "Cell \u001b[0;32mIn[11], line 5\u001b[0m\n\u001b[1;32m      3\u001b[0m \u001b[38;5;66;03m# Initializing and training the model\u001b[39;00m\n\u001b[1;32m      4\u001b[0m model \u001b[38;5;241m=\u001b[39m BaggingElementaryTrees(BoostingElementaryPredicates(num_iter\u001b[38;5;241m=\u001b[39m\u001b[38;5;241m11\u001b[39m, m\u001b[38;5;241m=\u001b[39m\u001b[38;5;241m59\u001b[39m), n_estimators\u001b[38;5;241m=\u001b[39m\u001b[38;5;241m10\u001b[39m, sub_sample_size\u001b[38;5;241m=\u001b[39m\u001b[38;5;241m1.0\u001b[39m, sub_feature_size\u001b[38;5;241m=\u001b[39m\u001b[38;5;241m1.0\u001b[39m, n_jobs\u001b[38;5;241m=\u001b[39m\u001b[38;5;241m40\u001b[39m, random_state\u001b[38;5;241m=\u001b[39m\u001b[38;5;241m42\u001b[39m)\n\u001b[0;32m----> 5\u001b[0m rmse \u001b[38;5;241m=\u001b[39m train_and_validate(model, X_train, y_train, X_val, y_val, fraction\u001b[38;5;241m=\u001b[39m\u001b[38;5;241m1.0\u001b[39m, num_bags\u001b[38;5;241m=\u001b[39m\u001b[38;5;241m10\u001b[39m, num_iter\u001b[38;5;241m=\u001b[39m\u001b[38;5;241m10\u001b[39m, m\u001b[38;5;241m=\u001b[39m\u001b[38;5;241m20\u001b[39m)\n\u001b[1;32m      7\u001b[0m \u001b[38;5;28mprint\u001b[39m(\u001b[38;5;124mf\u001b[39m\u001b[38;5;124m\"\u001b[39m\u001b[38;5;124mValidation RMSE: \u001b[39m\u001b[38;5;132;01m{\u001b[39;00mrmse\u001b[38;5;132;01m}\u001b[39;00m\u001b[38;5;124m\"\u001b[39m)\n",
      "File \u001b[0;32m~/Desktop/diploma/utilites.py:36\u001b[0m, in \u001b[0;36mtrain_and_validate\u001b[0;34m(model, X_train, y_train, X_val, y_val, fraction, num_bags, num_iter, m)\u001b[0m\n\u001b[1;32m     34\u001b[0m \u001b[38;5;28;01mdef\u001b[39;00m \u001b[38;5;21mtrain_and_validate\u001b[39m(model, X_train, y_train, X_val, y_val, fraction, num_bags, num_iter, m):\n\u001b[1;32m     35\u001b[0m     model \u001b[38;5;241m=\u001b[39m model\n\u001b[0;32m---> 36\u001b[0m     model\u001b[38;5;241m.\u001b[39mfit(X_train, y_train)\n\u001b[1;32m     37\u001b[0m     y_pred \u001b[38;5;241m=\u001b[39m model\u001b[38;5;241m.\u001b[39mpredict(X_val)\n\u001b[1;32m     38\u001b[0m     rmse \u001b[38;5;241m=\u001b[39m np\u001b[38;5;241m.\u001b[39msqrt(mean_squared_error(y_val, y_pred))\n",
      "Cell \u001b[0;32mIn[8], line 25\u001b[0m, in \u001b[0;36mBaggingElementaryTrees.fit\u001b[0;34m(self, X, y)\u001b[0m\n\u001b[1;32m     23\u001b[0m         \u001b[38;5;28mself\u001b[39m\u001b[38;5;241m.\u001b[39mestimators_features_\u001b[38;5;241m.\u001b[39mappend(features)\n\u001b[1;32m     24\u001b[0m \u001b[38;5;28;01melse\u001b[39;00m:\n\u001b[0;32m---> 25\u001b[0m     results \u001b[38;5;241m=\u001b[39m Parallel(n_jobs\u001b[38;5;241m=\u001b[39m\u001b[38;5;28mself\u001b[39m\u001b[38;5;241m.\u001b[39mn_jobs)(delayed(\u001b[38;5;28mself\u001b[39m\u001b[38;5;241m.\u001b[39m_fit_estimator)(X, y, seed) \u001b[38;5;28;01mfor\u001b[39;00m seed \u001b[38;5;129;01min\u001b[39;00m seeds)\n\u001b[1;32m     26\u001b[0m     \u001b[38;5;28mself\u001b[39m\u001b[38;5;241m.\u001b[39mestimators_, \u001b[38;5;28mself\u001b[39m\u001b[38;5;241m.\u001b[39mestimators_features_ \u001b[38;5;241m=\u001b[39m \u001b[38;5;28mzip\u001b[39m(\u001b[38;5;241m*\u001b[39mresults)\n\u001b[1;32m     28\u001b[0m \u001b[38;5;28;01mreturn\u001b[39;00m \u001b[38;5;28mself\u001b[39m\n",
      "File \u001b[0;32m~/anaconda3/lib/python3.11/site-packages/joblib/parallel.py:1098\u001b[0m, in \u001b[0;36mParallel.__call__\u001b[0;34m(self, iterable)\u001b[0m\n\u001b[1;32m   1095\u001b[0m     \u001b[38;5;28mself\u001b[39m\u001b[38;5;241m.\u001b[39m_iterating \u001b[38;5;241m=\u001b[39m \u001b[38;5;28;01mFalse\u001b[39;00m\n\u001b[1;32m   1097\u001b[0m \u001b[38;5;28;01mwith\u001b[39;00m \u001b[38;5;28mself\u001b[39m\u001b[38;5;241m.\u001b[39m_backend\u001b[38;5;241m.\u001b[39mretrieval_context():\n\u001b[0;32m-> 1098\u001b[0m     \u001b[38;5;28mself\u001b[39m\u001b[38;5;241m.\u001b[39mretrieve()\n\u001b[1;32m   1099\u001b[0m \u001b[38;5;66;03m# Make sure that we get a last message telling us we are done\u001b[39;00m\n\u001b[1;32m   1100\u001b[0m elapsed_time \u001b[38;5;241m=\u001b[39m time\u001b[38;5;241m.\u001b[39mtime() \u001b[38;5;241m-\u001b[39m \u001b[38;5;28mself\u001b[39m\u001b[38;5;241m.\u001b[39m_start_time\n",
      "File \u001b[0;32m~/anaconda3/lib/python3.11/site-packages/joblib/parallel.py:975\u001b[0m, in \u001b[0;36mParallel.retrieve\u001b[0;34m(self)\u001b[0m\n\u001b[1;32m    973\u001b[0m \u001b[38;5;28;01mtry\u001b[39;00m:\n\u001b[1;32m    974\u001b[0m     \u001b[38;5;28;01mif\u001b[39;00m \u001b[38;5;28mgetattr\u001b[39m(\u001b[38;5;28mself\u001b[39m\u001b[38;5;241m.\u001b[39m_backend, \u001b[38;5;124m'\u001b[39m\u001b[38;5;124msupports_timeout\u001b[39m\u001b[38;5;124m'\u001b[39m, \u001b[38;5;28;01mFalse\u001b[39;00m):\n\u001b[0;32m--> 975\u001b[0m         \u001b[38;5;28mself\u001b[39m\u001b[38;5;241m.\u001b[39m_output\u001b[38;5;241m.\u001b[39mextend(job\u001b[38;5;241m.\u001b[39mget(timeout\u001b[38;5;241m=\u001b[39m\u001b[38;5;28mself\u001b[39m\u001b[38;5;241m.\u001b[39mtimeout))\n\u001b[1;32m    976\u001b[0m     \u001b[38;5;28;01melse\u001b[39;00m:\n\u001b[1;32m    977\u001b[0m         \u001b[38;5;28mself\u001b[39m\u001b[38;5;241m.\u001b[39m_output\u001b[38;5;241m.\u001b[39mextend(job\u001b[38;5;241m.\u001b[39mget())\n",
      "File \u001b[0;32m~/anaconda3/lib/python3.11/site-packages/joblib/_parallel_backends.py:567\u001b[0m, in \u001b[0;36mLokyBackend.wrap_future_result\u001b[0;34m(future, timeout)\u001b[0m\n\u001b[1;32m    564\u001b[0m \u001b[38;5;250m\u001b[39m\u001b[38;5;124;03m\"\"\"Wrapper for Future.result to implement the same behaviour as\u001b[39;00m\n\u001b[1;32m    565\u001b[0m \u001b[38;5;124;03mAsyncResults.get from multiprocessing.\"\"\"\u001b[39;00m\n\u001b[1;32m    566\u001b[0m \u001b[38;5;28;01mtry\u001b[39;00m:\n\u001b[0;32m--> 567\u001b[0m     \u001b[38;5;28;01mreturn\u001b[39;00m future\u001b[38;5;241m.\u001b[39mresult(timeout\u001b[38;5;241m=\u001b[39mtimeout)\n\u001b[1;32m    568\u001b[0m \u001b[38;5;28;01mexcept\u001b[39;00m CfTimeoutError \u001b[38;5;28;01mas\u001b[39;00m e:\n\u001b[1;32m    569\u001b[0m     \u001b[38;5;28;01mraise\u001b[39;00m \u001b[38;5;167;01mTimeoutError\u001b[39;00m \u001b[38;5;28;01mfrom\u001b[39;00m \u001b[38;5;21;01me\u001b[39;00m\n",
      "File \u001b[0;32m~/anaconda3/lib/python3.11/concurrent/futures/_base.py:456\u001b[0m, in \u001b[0;36mFuture.result\u001b[0;34m(self, timeout)\u001b[0m\n\u001b[1;32m    454\u001b[0m     \u001b[38;5;28;01mraise\u001b[39;00m CancelledError()\n\u001b[1;32m    455\u001b[0m \u001b[38;5;28;01melif\u001b[39;00m \u001b[38;5;28mself\u001b[39m\u001b[38;5;241m.\u001b[39m_state \u001b[38;5;241m==\u001b[39m FINISHED:\n\u001b[0;32m--> 456\u001b[0m     \u001b[38;5;28;01mreturn\u001b[39;00m \u001b[38;5;28mself\u001b[39m\u001b[38;5;241m.\u001b[39m__get_result()\n\u001b[1;32m    457\u001b[0m \u001b[38;5;28;01melse\u001b[39;00m:\n\u001b[1;32m    458\u001b[0m     \u001b[38;5;28;01mraise\u001b[39;00m \u001b[38;5;167;01mTimeoutError\u001b[39;00m()\n",
      "File \u001b[0;32m~/anaconda3/lib/python3.11/concurrent/futures/_base.py:401\u001b[0m, in \u001b[0;36mFuture.__get_result\u001b[0;34m(self)\u001b[0m\n\u001b[1;32m    399\u001b[0m \u001b[38;5;28;01mif\u001b[39;00m \u001b[38;5;28mself\u001b[39m\u001b[38;5;241m.\u001b[39m_exception:\n\u001b[1;32m    400\u001b[0m     \u001b[38;5;28;01mtry\u001b[39;00m:\n\u001b[0;32m--> 401\u001b[0m         \u001b[38;5;28;01mraise\u001b[39;00m \u001b[38;5;28mself\u001b[39m\u001b[38;5;241m.\u001b[39m_exception\n\u001b[1;32m    402\u001b[0m     \u001b[38;5;28;01mfinally\u001b[39;00m:\n\u001b[1;32m    403\u001b[0m         \u001b[38;5;66;03m# Break a reference cycle with the exception in self._exception\u001b[39;00m\n\u001b[1;32m    404\u001b[0m         \u001b[38;5;28mself\u001b[39m \u001b[38;5;241m=\u001b[39m \u001b[38;5;28;01mNone\u001b[39;00m\n",
      "\u001b[0;31mTypeError\u001b[0m: 'NoneType' object cannot be interpreted as an integer"
     ]
    }
   ],
   "source": [
    "X_val, X_test, y_val, y_test = train_test_split(X_test, y_test, train_size=0.5)\n",
    "\n",
    "# Initializing and training the model\n",
    "model = BaggingElementaryTrees(BoostingElementaryPredicates(num_iter=11, m=59), n_estimators=10, sub_sample_size=1.0, sub_feature_size=1.0, n_jobs=40, random_state=42)\n",
    "rmse = train_and_validate(model, X_train, y_train, X_val, y_val, fraction=1.0, num_bags=10, num_iter=10, m=20)\n",
    "\n",
    "print(f\"Validation RMSE: {rmse}\")"
   ]
  },
  {
   "cell_type": "markdown",
   "metadata": {},
   "source": [
    "TODO: пофиксить обучение отдельного estimator'а бэггинга."
   ]
  },
  {
   "cell_type": "markdown",
   "metadata": {},
   "source": [
    "##  Эксперименты с различными долями признаков"
   ]
  },
  {
   "cell_type": "code",
   "execution_count": 36,
   "metadata": {},
   "outputs": [],
   "source": [
    "# fractions = np.linspace(0.55, 1, 4)\n",
    "\n",
    "# results = []\n",
    "\n",
    "# for fraction in fractions:\n",
    "#     rmse = train_and_validate(X_train, y_train, X_val, y_val, fraction, num_bags=10, num_iter=100, m=3)  # Пример параметров\n",
    "#     results.append({'Fraction': fraction, 'RMSE': rmse})"
   ]
  },
  {
   "cell_type": "code",
   "execution_count": null,
   "metadata": {},
   "outputs": [],
   "source": [
    "fracs = np.linspace(0.1, 1.0, 10)  # Диапазон долей признаков\n",
    "rmses = []  # Список для хранения результатов\n",
    "\n",
    "for frac in fracs:\n",
    "    model = BaggingElementaryTrees(BoostingElementaryPredicates(num_iter=11, m=59), n_estimators=10, sub_feature_size=frac, bootstrap=True, bootstrap_features=True, n_jobs=-1, random_state=42)\n",
    "    rmse = train_and_validate(model, X_train, y_train, X_val, y_val, fraction=frac, num_bags=10, num_iter=10, m=20)\n",
    "    rmses.append(rmse)\n",
    "\n",
    "# Отрисовка графиков\n",
    "plt.figure(figsize=(10, 6))\n",
    "plt.plot(fracs, rmses, marker='o', linestyle='-', color='b')\n",
    "plt.title('Зависимость RMSE от доли признаков')\n",
    "plt.xlabel('Доля признаков')\n",
    "plt.ylabel('RMSE')\n",
    "plt.grid(True)\n",
    "plt.show()"
   ]
  }
 ],
 "metadata": {
  "kernelspec": {
   "display_name": "Python 3 (ipykernel)",
   "language": "python",
   "name": "python3"
  },
  "language_info": {
   "codemirror_mode": {
    "name": "ipython",
    "version": 3
   },
   "file_extension": ".py",
   "mimetype": "text/x-python",
   "name": "python",
   "nbconvert_exporter": "python",
   "pygments_lexer": "ipython3",
   "version": "3.11.5"
  }
 },
 "nbformat": 4,
 "nbformat_minor": 2
}
